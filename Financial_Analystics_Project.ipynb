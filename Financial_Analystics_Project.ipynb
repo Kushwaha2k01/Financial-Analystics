{
  "nbformat": 4,
  "nbformat_minor": 0,
  "metadata": {
    "colab": {
      "provenance": []
    },
    "kernelspec": {
      "name": "python3",
      "display_name": "Python 3"
    },
    "language_info": {
      "name": "python"
    }
  },
  "cells": [
    {
      "cell_type": "markdown",
      "source": [
        "Import Libraries and Load the dataset"
      ],
      "metadata": {
        "id": "EZyyQhi1tdHa"
      }
    },
    {
      "cell_type": "code",
      "source": [
        "import pandas as pd\n",
        "import numpy as np\n",
        "import matplotlib.pyplot as plt\n",
        "import seaborn as sns\n",
        "\n",
        "#Assuming your data is in a CSV file named 'data.csv'\n",
        "data = pd.read_csv('/content/Financial_Analytics_data.csv')\n",
        "\n",
        "#Explore the first few rows of data\n",
        "data.head()\n",
        "\n",
        "#data.columns"
      ],
      "metadata": {
        "id": "Pb6Hd-96tXfl"
      },
      "execution_count": null,
      "outputs": []
    },
    {
      "cell_type": "markdown",
      "source": [
        " Handle Missing Values (if any)"
      ],
      "metadata": {
        "id": "QvMaerUWtqMz"
      }
    },
    {
      "cell_type": "code",
      "source": [
        "# Check for missing values\n",
        "data.isnull().sum()\n",
        "\n",
        "# Handle missing values (e.g., impute with mean/median or drop rows)\n",
        "if 'Mar Cap – Crore' in data.columns:  # Replace with your column name for market cap\n",
        "  data['Mar Cap – Crore'].fillna(data['Mar Cap – Crore'].mean(), inplace=True)\n",
        "\n",
        "# You can also handle missing values in Sales or other columns similarly"
      ],
      "metadata": {
        "id": "tveiCli9t0en"
      },
      "execution_count": null,
      "outputs": []
    },
    {
      "cell_type": "markdown",
      "source": [
        "Data Cleaning and Feature Engineering (Optional)"
      ],
      "metadata": {
        "id": "xgsTgBBkuCMh"
      }
    },
    {
      "cell_type": "code",
      "source": [
        "#Clean coulmn names (remove special characters or spaces)\n",
        "data.columns = data.columns.str.replace(' ','_') #Replace spaces with underscores\n",
        "\n",
        "#Convert data types if necessary (e.g., convert string to numeric)\n",
        "data['Mar_Cap_-_Crore'] = pd.to_numeric(data['Mar_Cap_-_Crore'], errors='coerce') #Assuming market cap is numeric\n",
        "\n",
        "# Create new features (e.g., growth rate, ratios)\n",
        "data['Mar_Cap_Growth'] = data['Mar_Cap_-_Crore'].pct_change() * 100  # Percentage change in market cap\n",
        "\n",
        "#Code to analyze the data further\n",
        "#Consider adding industry sector as a new column if available in your data"
      ],
      "metadata": {
        "id": "LYQNRziSiD35"
      },
      "execution_count": null,
      "outputs": []
    },
    {
      "cell_type": "markdown",
      "source": [
        "Exploratory Data Analysis (EDA)"
      ],
      "metadata": {
        "id": "EhGOOOX5uIqW"
      }
    },
    {
      "cell_type": "code",
      "source": [
        "# Descriptive statistics for market cap and sales\n",
        "data['Mar_Cap_-_Crore'].describe()\n",
        "data['Sales_Qtr_-_Crore'].describe()  # Replace 'Sales_Qtr_Crore' with your actual sales column name\n",
        "\n",
        "# Visualize distributions using histograms or boxplots\n",
        "#import matplotlib.pyplot as plt\n",
        "\n",
        "plt.hist(data['Mar_Cap_-_Crore'])\n",
        "plt.xlabel('Market Capitalization (Crore)')\n",
        "plt.ylabel('Number of Companies')\n",
        "plt.title('Distribution of Market Capitalization')\n",
        "plt.show()\n",
        "\n",
        "# Explore boxplots to compare sales/market cap across sectors (if industry sector exists)"
      ],
      "metadata": {
        "id": "Em3KPzkspaLS"
      },
      "execution_count": null,
      "outputs": []
    },
    {
      "cell_type": "markdown",
      "source": [
        "Correlation Analysis"
      ],
      "metadata": {
        "id": "JC0zYXU0uOR4"
      }
    },
    {
      "cell_type": "code",
      "source": [
        "# Calculate correlation matrix\n",
        "correlation = data[['Mar_Cap_-_Crore', 'Sales_Qtr_-_Crore']].corr()  # Replace column names if needed\n",
        "print(correlation)\n",
        "\n",
        "# Identify significant correlations (values close to 1 or -1)\n"
      ],
      "metadata": {
        "id": "arbBw2SmsvZP"
      },
      "execution_count": null,
      "outputs": []
    },
    {
      "cell_type": "markdown",
      "source": [
        "Summarize key findings in a docstring or comments"
      ],
      "metadata": {
        "id": "yozZcil72bSQ"
      }
    },
    {
      "cell_type": "code",
      "source": [
        "print(\"Companies with Highest Market Capitalization:\")\n",
        "print(data.nlargest(5, 'Mar_Cap_-_Crore'))\n",
        "\n",
        "# Print correlation between market cap and sales (or other relevant features)\n",
        "print(\"Correlation between Market Cap and Sales:\", correlation.loc['Mar_Cap_-_Crore', 'Sales_Qtr_-_Crore'])"
      ],
      "metadata": {
        "id": "qSnYPHmls2V6"
      },
      "execution_count": null,
      "outputs": []
    }
  ]
}